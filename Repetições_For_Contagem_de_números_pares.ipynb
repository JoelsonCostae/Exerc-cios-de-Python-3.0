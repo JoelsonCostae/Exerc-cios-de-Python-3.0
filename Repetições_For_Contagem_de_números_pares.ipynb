{
  "nbformat": 4,
  "nbformat_minor": 0,
  "metadata": {
    "colab": {
      "provenance": []
    },
    "kernelspec": {
      "name": "python3",
      "display_name": "Python 3"
    },
    "language_info": {
      "name": "python"
    }
  },
  "cells": [
    {
      "cell_type": "code",
      "execution_count": null,
      "metadata": {
        "id": "y4Tprxu_ioRD"
      },
      "outputs": [],
      "source": [
        "'''Crie um programa que mostre na tela todos os números pares que estão entre 1 e 50'''\n",
        "\n",
        "for c in range(2, 51, 2):\n",
        "  print(c, end=' ')"
      ]
    }
  ]
}