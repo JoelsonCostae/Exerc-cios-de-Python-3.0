{
  "nbformat": 4,
  "nbformat_minor": 0,
  "metadata": {
    "colab": {
      "provenance": []
    },
    "kernelspec": {
      "name": "python3",
      "display_name": "Python 3"
    },
    "language_info": {
      "name": "python"
    }
  },
  "cells": [
    {
      "cell_type": "code",
      "source": [
        "# Game: Pedra, papel ou tesoura (JO - KEN - PÔ)\n",
        "\n",
        "from random import randint\n",
        "from time import sleep\n",
        "print(\"=-\" * 5 ,' Jo - ken - pô ',\"-=\" * 5)\n",
        "itens = ('Pedra','Papel','Tesoura')\n",
        "pc = randint(0, 2)\n",
        "\n",
        "print(''' Escolha uma opção! \n",
        "[0] PEDRA\n",
        "[1] PAPEL\n",
        "[2] TESOURA''')\n",
        "jogador = int(input('Qual sua jogada? '))\n",
        "print('JO')\n",
        "sleep(1)\n",
        "print('KEN')\n",
        "sleep(1) \n",
        "print('PÔ')\n",
        "sleep(1)\n",
        "\n",
        "print('Computador jogou {}'.format(itens[pc]))\n",
        "print('Jogador jogou {}'.format(itens[jogador]))\n",
        "\n",
        "if pc == 0: # computador joga pedra\n",
        "  if jogador == 0:\n",
        "    print('EMPATE')\n",
        "  elif jogador == 1:\n",
        "    print('VOCÊ VENCEU')\n",
        "  elif jogador == 2:\n",
        "    print('COMPUTADOR VENCEU')  \n",
        "\n",
        "elif pc == 1:# computador joga papel\n",
        "  if jogador == 0:\n",
        "    print('COMPUTADOR VENCEU')\n",
        "  elif jogador == 1:\n",
        "    print('EMPATE')\n",
        "  elif jogador == 2:\n",
        "    print('VOCÊ VENCEU')        \n",
        "   \n",
        "elif pc == 2: # computador joga tesoura\n",
        "  if jogador == 0:\n",
        "    print('VOCÊ VENCEU')\n",
        "  elif jogador == 1:\n",
        "    print('COMPUTADOR VENCEU')\n",
        "  elif jogador == 2:\n",
        "    print('EMPATE') \n",
        "\n",
        "else:\n",
        "  print('Opção inválida!')"
      ],
      "metadata": {
        "id": "M7t4A-KL9a57"
      },
      "execution_count": null,
      "outputs": []
    }
  ]
}