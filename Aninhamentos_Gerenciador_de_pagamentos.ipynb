{
  "nbformat": 4,
  "nbformat_minor": 0,
  "metadata": {
    "colab": {
      "provenance": []
    },
    "kernelspec": {
      "name": "python3",
      "display_name": "Python 3"
    },
    "language_info": {
      "name": "python"
    }
  },
  "cells": [
    {
      "cell_type": "code",
      "source": [
        "# Gerenciador de pagamentos\n",
        "\n",
        "print('=' * 11,'  LOJAS GUANABARA  ', '=' * 11)\n",
        "preço = float(input('Qual o preço do produto? '))\n",
        "print('''Escolha uma forma de pagamento:\n",
        " [1] À vista no dinheiro/cheque (10% desc);\n",
        " [2] Em até 2x no cartão (preço normal);\n",
        " [3] À vista no cartão (5% desc);\n",
        " [4] 3x ou mais no cartão(20% de juros)''')\n",
        "forma = int(input('Forma de pagamento: '))\n",
        "f1 = preço - (preço * 10) / 100\n",
        "f3 = preço - (preço * 5) / 100\n",
        "f4 = preço + (preço * 20) /100\n",
        "\n",
        "if forma == 1:\n",
        "  print(\"Sua compra está à vista/cheque no valor de R$ {:.2f}, com 10% de desconto!\".format(preço, f1))\n",
        "elif forma == 2:\n",
        "  print('Sua compra será de R$ {}'.format(preço))\n",
        "elif forma == 3:\n",
        "  print('Sua compra será à vista no cartão, no valor de R$ {}, com 5% de desconto!'.format(f3))\n",
        "elif forma == 4:\n",
        "  parcela = int(input('Quantas vezes? '))\n",
        "  print('Sua compra será parcelada em {}x de R$ {}, com 20% de juros. Sua compra total será R$ {}'.format((preço/parcela), f4))\n"
      ],
      "metadata": {
        "id": "M7t4A-KL9a57"
      },
      "execution_count": null,
      "outputs": []
    }
  ]
}