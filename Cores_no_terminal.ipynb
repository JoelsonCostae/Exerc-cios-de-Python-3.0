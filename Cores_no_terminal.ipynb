{
  "nbformat": 4,
  "nbformat_minor": 0,
  "metadata": {
    "colab": {
      "provenance": []
    },
    "kernelspec": {
      "name": "python3",
      "display_name": "Python 3"
    },
    "language_info": {
      "name": "python"
    }
  },
  "cells": [
    {
      "cell_type": "code",
      "source": [
        "# Cores no terminal\n",
        "\n",
        "'''\\033[0;30;41m\n",
        "\\033[4;33;44m\n",
        "\\033[1;35;43m\n",
        "\\033[m\n",
        "\\033[7;30m'''\n",
        "\n",
        "\n",
        "a = 3\n",
        "b = 5\n",
        "print('Os valores são \\033[32m{}\\033[m e \\033[31m{}\\033[m!!'.format(3,5))"
      ],
      "metadata": {
        "id": "M7t4A-KL9a57"
      },
      "execution_count": null,
      "outputs": []
    }
  ]
}