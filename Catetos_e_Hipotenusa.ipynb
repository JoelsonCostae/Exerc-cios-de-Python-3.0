{
  "nbformat": 4,
  "nbformat_minor": 0,
  "metadata": {
    "colab": {
      "provenance": []
    },
    "kernelspec": {
      "name": "python3",
      "display_name": "Python 3"
    },
    "language_info": {
      "name": "python"
    }
  },
  "cells": [
    {
      "cell_type": "code",
      "execution_count": null,
      "metadata": {
        "id": "9awkrzw48gzD"
      },
      "outputs": [],
      "source": [
        "# Pegue os catetos e calcule a hipotenusa (módulo math)\n",
        "import math\n",
        "\n",
        "c1 = float(input('Digite um cateto: '))\n",
        "c2 = float(input('Digite outro cateto: '))\n",
        "h = math.sqrt((c1**2) + (c2**2))\n",
        "print('A hipotenusa do triângulo é:',h)"
      ]
    }
  ]
}