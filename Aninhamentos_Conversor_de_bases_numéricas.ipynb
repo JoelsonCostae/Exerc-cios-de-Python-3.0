{
  "nbformat": 4,
  "nbformat_minor": 0,
  "metadata": {
    "colab": {
      "provenance": []
    },
    "kernelspec": {
      "name": "python3",
      "display_name": "Python 3"
    },
    "language_info": {
      "name": "python"
    }
  },
  "cells": [
    {
      "cell_type": "code",
      "source": [
        "# Conversor de bases numéricas\n",
        "\n",
        "num = int(input('Digite um número inteiro: '))\n",
        "print('''Escolha uma das opções de base: \n",
        "[1] Converter para BINÁRIO\n",
        "[2] Converter para HEXADECIMAL\n",
        "[3] Converter para OCTAL''')\n",
        "opção = int(input('Sua opção:'))\n",
        "if opção == 1:\n",
        "  print('{} em binário é {}'.format(num, bin(num)[2:]))\n",
        "elif opção == 2:\n",
        "  print('{} em hexadecimal é {}'.format(num, hex(num)[2:]))\n",
        "elif opção == 3:\n",
        "  print('{} em octal é {}'.format(num, oct(num)[2:]))\n",
        "else:\n",
        "  print('Opção inválida. Digite uma opção válida!')"
      ],
      "metadata": {
        "id": "M7t4A-KL9a57"
      },
      "execution_count": null,
      "outputs": []
    }
  ]
}