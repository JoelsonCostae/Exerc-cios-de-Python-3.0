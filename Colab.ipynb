{
  "nbformat": 4,
  "nbformat_minor": 0,
  "metadata": {
    "colab": {
      "name": "Colab.ipynb",
      "provenance": [],
      "collapsed_sections": []
    },
    "kernelspec": {
      "name": "python3",
      "display_name": "Python 3"
    },
    "language_info": {
      "name": "python"
    }
  },
  "cells": [
    {
      "cell_type": "code",
      "execution_count": null,
      "metadata": {
        "id": "0SL_2ZFu6Nmb"
      },
      "outputs": [],
      "source": [
        "# Pegue os catetos e calcule a hipotenusa (módulo math)\n",
        "import math\n",
        "\n",
        "c = float(input('Digite um cateto: '))\n",
        "b = float(input('Digite outro cateto: '))\n",
        "a = math.sqrt((c**2) + (b**2))\n",
        "print('A hipotenusa do triângulo é: ',a)\n"
      ]
    },
    {
      "cell_type": "code",
      "source": [
        "# Pegue os catetos e calcule a hipotenusa (módulo sqrt)\n",
        "\n",
        "from math import sqrt\n",
        "b = float(input('Digite um cateto: '))\n",
        "c = float(input('Digite outro cateto: '))\n",
        "a = sqrt((b**2)+(c**2))\n",
        "print('A hipotenusa do triângulo é:',a)\n"
      ],
      "metadata": {
        "id": "9pEDlUXKKMSP"
      },
      "execution_count": null,
      "outputs": []
    },
    {
      "cell_type": "code",
      "source": [
        "# Sorteando um item numa lista\n",
        "\n",
        "import random \n",
        "a1 = str(input('Digite o primeiro aluno: '))\n",
        "a2 = str(input('Digite o segundo aluno: '))\n",
        "a3 = str(input('Digite o terceiro aluno: '))\n",
        "a4 = str(input('Digite o quarto aluno: '))\n",
        "lista = [a1,a2,a3,a4]\n",
        "escolha = random.choice(lista)\n",
        "print(escolha)\n"
      ],
      "metadata": {
        "id": "Zm2qkCKxqJXM"
      },
      "execution_count": null,
      "outputs": []
    },
    {
      "cell_type": "code",
      "source": [
        "# Sorteando uma ordem na lista\n",
        "\n",
        "import random \n",
        "a1 = str(input('Digite o primeiro aluno: '))\n",
        "a2 = str(input('Digite o segundo aluno: '))\n",
        "a3 = str(input('Digite o terceiro aluno: '))\n",
        "a4 = str(input('Digite o quarto aluno: '))\n",
        "lista = [a1,a2,a3,a4]\n",
        "random.shuffle(lista)\n",
        "print(lista)\n"
      ],
      "metadata": {
        "id": "BMF0p6gCeEfb"
      },
      "execution_count": null,
      "outputs": []
    },
    {
      "cell_type": "code",
      "source": [
        "# Média escolar\n",
        "\n",
        "n1 = float(input('Digite a primeira nota: '))\n",
        "n2 = float(input('Digite a segunda nota: '))\n",
        "m = (n1 + n2)/2\n",
        "print('A sua média foi {:.2f}'.format(m))\n",
        "if m>=6.0:\n",
        "  print('Sua média foi boa. PARABÉNS!')\n",
        "else:\n",
        "  print('Sua média foi ruim, estude mais!')\n"
      ],
      "metadata": {
        "id": "aCtjQlvhfLYM"
      },
      "execution_count": null,
      "outputs": []
    },
    {
      "cell_type": "code",
      "source": [
        "# Game: Jogo da advinhação v.1.0\n",
        "\n",
        "from random import randint\n",
        "from time import sleep\n",
        "computador = randint(0,5) \n",
        "print(\"Advinha qual o número certo do computador de 0 a 5! \")\n",
        "jogador = int(input('O número é: '))\n",
        "print('Pensando . . . ')\n",
        "sleep(2)\n",
        "print('Computador:',computador)\n",
        "if jogador == computador:\n",
        "  print(\"Parabéns!\")\n",
        "else:\n",
        "  print('Errou! Ai que burro dá zero pra ele! kkkkkk') \n"
      ],
      "metadata": {
        "id": "KrFeoSd98W8L"
      },
      "execution_count": null,
      "outputs": []
    },
    {
      "cell_type": "code",
      "source": [
        "# Radar eletrônico\n",
        "\n",
        "v = float(input('Qual a velocidade do carro? '))\n",
        "m = (v - 80) * 7\n",
        "if v < 80:\n",
        "  print('Bom dia. Ótima viagem!!')\n",
        "else:  \n",
        "  print('Velocidade acima do limite ( 80 km/h). Você foi MULTADO em R$ {:.2f}.'.format(m))\n"
      ],
      "metadata": {
        "id": "XcWLcqvFLNvs"
      },
      "execution_count": null,
      "outputs": []
    },
    {
      "cell_type": "code",
      "source": [
        "# Par ou ímpar\n",
        "\n",
        "n1 = float(input('Fala um número! '))\n",
        "if n1%2 == 0:\n",
        "  print('Este número é par!')\n",
        "else:\n",
        "  print('Este número é ímpar!')\n",
        "    "
      ],
      "metadata": {
        "id": "Ygfxu31ITO27"
      },
      "execution_count": null,
      "outputs": []
    },
    {
      "cell_type": "code",
      "source": [
        "# Custo de viagem\n",
        "\n",
        "d = float(input('Qual a distância em km? '))\n",
        "v1 = d * 0.5\n",
        "v2 = d * 0.45\n",
        "\n",
        "if d <= 200:\n",
        "  print('Sua viagem é de {} Kilometros e custará R$ {:.2f}!'.format(d,v1))\n",
        "else:\n",
        "  print('Sua viagem é de {} kilometros e custará R$ {:.2f}!'.format(d,v2))\n"
      ],
      "metadata": {
        "id": "QpCtMCcjVgK3"
      },
      "execution_count": null,
      "outputs": []
    },
    {
      "cell_type": "code",
      "source": [
        "# Ano bissexto\n",
        "\n",
        "ano = int(input('Qual o ano você quer analizar? Coloque 0 para o ano atual! '))\n",
        "bi = ano % 4 and ano % 100 or ano % 400\n",
        "if bi == 0:\n",
        "  print('O ano {} é bissexto!'.format(ano))\n",
        "else:\n",
        "  print('O ano {} não é bissexto!'.format(ano))\n"
      ],
      "metadata": {
        "id": "qxYhF1oWZmeS"
      },
      "execution_count": null,
      "outputs": []
    },
    {
      "cell_type": "code",
      "source": [
        "# Maior e menor valores\n",
        "\n",
        "n1 = float(input('Diga o primeiro número: '))\n",
        "n2 = float(input('Diga o segundo número: '))\n",
        "n3 = float(input('Diga o terceiro número: '))\n",
        "if n1 > n2 > n3 or n1 > n3 > n2:\n",
        "  print('O número {} é o maior e o número {} é o menor.'.format(n1,n3) or 'O número {} é o maior e o número {} é o menor'.format(n1,n2))\n",
        "elif n2 > n1 > n3 or n2 > n3 > n1:\n",
        "  print('O número {} é o maior e o número {} é o menor.'.format(n2,n3) or 'O número {} é o maior e o número {} é o menor.'.format(n2,n1))\n",
        "elif n3 > n2 > n1 or n3 > n1 > n2:\n",
        "  print('O número {} é o maior e o número {} é o menor.'.format(n3,n1) or 'O número {} é o maior e o número {} é o menor.'.format(n3,n2))\n",
        "else:\n",
        "  print('ERROR')  \n"
      ],
      "metadata": {
        "id": "HvBark3mdjKb"
      },
      "execution_count": null,
      "outputs": []
    },
    {
      "cell_type": "code",
      "source": [
        "# Aumento múltiplo\n",
        "\n",
        "sal = float(input('Qual o salário? '))\n",
        "if sal > 1250.00:\n",
        "  print('O novo salário é R$ ',sal*1.10)\n",
        "else:\n",
        "  print('O novo salário é R$ ',sal*1.15)\n",
        "    "
      ],
      "metadata": {
        "id": "b8UfO-P_lE0Z"
      },
      "execution_count": null,
      "outputs": []
    },
    {
      "cell_type": "code",
      "source": [
        "# Analizando triângulo v.1.0\n",
        "\n",
        "print('-='*20)\n",
        "print('|| A teoria do triângulo.')\n",
        "print('-='*20)\n",
        "print(' '*20)\n",
        "\n",
        "a = float(input('Primeiro lado: '))\n",
        "b = float(input('Segundo lado: ' ))\n",
        "c = float(input('Terceiro lado: '))\n",
        "\n",
        "'''if a + b > c and a + c > b and b + c > a:\n",
        "  print('É possível formar um triângulo...')'''\n",
        "if a == b == c:\n",
        "  print('É um triângulo Equilátero!.')\n",
        "elif a == b or a == c or b == c:\n",
        "  print( 'É um triângulo Isóceles!')\n",
        "elif a + b > c and a + c > b and b + c > a and a != b != c:\n",
        "  print('É um triângulo Escaleno!')  \n",
        "else:\n",
        "  print('Não é possível formar um triângulo!')\n"
      ],
      "metadata": {
        "id": "yb6_Yprytv6T"
      },
      "execution_count": null,
      "outputs": []
    },
    {
      "cell_type": "code",
      "source": [
        "# Cores no terminal\n",
        "\n",
        "'''\\033[0;30;41m\n",
        "\\033[4;33;44m\n",
        "\\033[1;35;43m\n",
        "\\033[m\n",
        "\\033[7;30m'''\n",
        "\n",
        "\n",
        "a = 3\n",
        "b = 5\n",
        "print('Os valores são \\033[32m{}\\033[m e \\033[31m{}\\033[m!!'.format(3,5))\n",
        "            "
      ],
      "metadata": {
        "id": "KWdM1atv__i5"
      },
      "execution_count": null,
      "outputs": []
    },
    {
      "cell_type": "code",
      "source": [
        "# Aprovando empréstimos\n",
        "\n",
        "casa = float(input('Qual o valor da casa? '))\n",
        "salario = float(input('Qual o salário do comprador? '))\n",
        "anos = int(input('Em quantos anos será pago? '))\n",
        "prestaçao = casa / (12 * anos)\n",
        "lim_sal = salario * 30/100\n",
        "if prestaçao >= lim_sal:\n",
        "  print('São parcelas de {:.2f}. A prestação é maior que 30% do seu salário. EMPRÉSTIMO NEGADO!!!'.format(prestaçao,))\n",
        "else:\n",
        "  print('Parabéns. EMPRÉSTIMO APROVADO!!!')\n"
      ],
      "metadata": {
        "id": "B2OBNUEtJ9dg"
      },
      "execution_count": null,
      "outputs": []
    },
    {
      "cell_type": "code",
      "source": [
        "# Conversor de bases numéricas\n",
        "\n",
        "num = int(input('Digite um número inteiro: '))\n",
        "print('''Escolha uma das opções de base: \n",
        "[1] Converter para BINÁRIO\n",
        "[2] Converter para HEXADECIMAL\n",
        "[3] Converter para OCTAL''')\n",
        "opção = int(input('Sua opção:'))\n",
        "if opção == 1:\n",
        "  print('{} em binário é {}'.format(num, bin(num)[2:]))\n",
        "elif opção == 2:\n",
        "  print('{} em hexadecimal é {}'.format(num, hex(num)[2:]))\n",
        "elif opção == 3:\n",
        "  print('{} em octal é {}'.format(num, oct(num)[2:]))\n",
        "else:\n",
        "  print('Opção inválida. Digite uma opção válida!')\n"
      ],
      "metadata": {
        "id": "6YzyaeTCT1OL"
      },
      "execution_count": null,
      "outputs": []
    },
    {
      "cell_type": "code",
      "source": [
        "# Comparando números\n",
        "\n",
        "n1 = int(input('Digite o primeiro número: '))\n",
        "n2 = int(input('Digite o segundo número: '))\n",
        "if n1 > n2:\n",
        "  print('O primeiro valor é maior!')\n",
        "elif n1 < n2:\n",
        "  print('O segundo valor é maior!')\n",
        "else:\n",
        "  print('Não existe valor maior, os dois são iguais!')\n"
      ],
      "metadata": {
        "id": "zlGWmR5gYirB"
      },
      "execution_count": null,
      "outputs": []
    },
    {
      "cell_type": "code",
      "source": [
        "# Alistamento militar\n",
        "\n",
        "from datetime import date\n",
        "nasc = int(input('Qual o ano de nascimento? '))\n",
        "idade = date.today().year - nasc\n",
        "if idade >= 18:\n",
        "  print('Você tem {} anos, aliste-se já!'.format(idade))\n",
        "else:\n",
        "  print('Você tem menos de 18 anos, vai estudar!'.format(idade))  \n"
      ],
      "metadata": {
        "id": "xdwOvgFDg1Bf"
      },
      "execution_count": null,
      "outputs": []
    },
    {
      "cell_type": "code",
      "source": [
        "# Aquele clássico da média\n",
        "\n",
        "n1 = float(input('Digite a primeira nota: '))\n",
        "n2 = float(input('Digite a segunda nota: '))\n",
        "m = (n1 + n2) / 2\n",
        "if m < 5.0:\n",
        "  print(\"Com {} e {} sua média é {}, você está REPROVADO!\".format(n1, n2, m))\n",
        "elif 5.0 <= m <= 6.9:\n",
        "  print('Com {} e {} sua média é {}, você está de RECUPERAÇÃO!!'.format(n1, n2 , m))\n",
        "else:\n",
        "  print('Com {} e {} sua média é {}, você está APROVADO!!!'.format(n1, n2, m))\n"
      ],
      "metadata": {
        "id": "tX6Xs9j1591R"
      },
      "execution_count": null,
      "outputs": []
    },
    {
      "cell_type": "code",
      "source": [
        "# Analizando triângulos v.2.0\n",
        "\n",
        "print('-='*15)\n",
        "print(' ||  A teoria do triângulo  ||')\n",
        "print('-='*15)\n",
        "print(' '*15)\n",
        "\n",
        "a = float(input('Primeiro lado: '))\n",
        "b = float(input('Segundo lado: ' ))\n",
        "c = float(input('Terceiro lado: '))\n",
        "\n",
        "if a + b > c and a + c > b and b + c > a:\n",
        "  print('É possível formar um triângulo!')\n",
        "  if a == b == c:\n",
        "    print('É um triângulo Equilátero!')\n",
        "  elif a == b or a == c or b == c:\n",
        "    print( 'É um triângulo Isóceles!')\n",
        "  elif a != b != c:\n",
        "    print('É um triângulo Escaleno!')  \n",
        "else:\n",
        "  print('Não é possível formar um triângulo!')"
      ],
      "metadata": {
        "id": "nohaOOFA-4Ql"
      },
      "execution_count": null,
      "outputs": []
    },
    {
      "cell_type": "code",
      "source": [
        "# Gerenciador de pagamentos\n",
        "\n",
        "print('=' * 11,'  LOJAS GUANABARA  ', '=' * 11)\n",
        "preço = float(input('Qual o preço do produto? '))\n",
        "print('''Escolha uma forma de pagamento:\n",
        " [1] À vista no dinheiro/cheque (10% desc);\n",
        " [2] Em até 2x no cartão (preço normal);\n",
        " [3] À vista no cartão (5% desc);\n",
        " [4] 3x ou mais no cartão(20% de juros)''')\n",
        "forma = int(input('Forma de pagamento: '))\n",
        "f1 = preço - (preço * 10) / 100\n",
        "f3 = preço - (preço * 5) / 100\n",
        "f4 = preço + (preço * 20) /100\n",
        "\n",
        "if forma == 1:\n",
        "  print(\"Sua compra está à vista/cheque no valor de R$ {:.2f}, com 10% de desconto!\".format(preço, f1))\n",
        "elif forma == 2:\n",
        "  print('Sua compra será de R$ {}'.format(preço))\n",
        "elif forma == 3:\n",
        "  print('Sua compra será à vista no cartão, no valor de R$ {}, com 5% de desconto!'.format(f3))\n",
        "elif forma == 4:\n",
        "  parcela = int(input('Quantas vezes? '))\n",
        "  print('Sua compra será parcelada em {}x de R$ {}, com 20% de juros. Sua compra total será R$ {}'.format((preço/parcela), f4))\n"
      ],
      "metadata": {
        "id": "Pu6FBlShM98d"
      },
      "execution_count": null,
      "outputs": []
    },
    {
      "cell_type": "code",
      "source": [
        "# Game: Pedra, papel ou tesoura (JO - KEN - PÔ)\n",
        "\n",
        "from random import randint\n",
        "from time import sleep\n",
        "print(\"=-\" * 5 ,' Jo - ken - pô ',\"-=\" * 5)\n",
        "itens = ('Pedra','Papel','Tesoura')\n",
        "pc = randint(0, 2)\n",
        "\n",
        "print(''' Escolha uma opção! \n",
        "[0] PEDRA\n",
        "[1] PAPEL\n",
        "[2] TESOURA''')\n",
        "jogador = int(input('Qual sua jogada? '))\n",
        "print('JO')\n",
        "sleep(1)\n",
        "print('KEN')\n",
        "sleep(1) \n",
        "print('PÔ')\n",
        "sleep(1)\n",
        "\n",
        "print('Computador jogou {}'.format(itens[pc]))\n",
        "print('Jogador jogou {}'.format(itens[jogador]))\n",
        "\n",
        "if pc == 0: # computador joga pedra\n",
        "  if jogador == 0:\n",
        "    print('EMPATE')\n",
        "  elif jogador == 1:\n",
        "    print('JOGADOR VENCEU')\n",
        "  elif jogador == 2:\n",
        "    print('COMPUTADOR VENCEU')  \n",
        "\n",
        "elif pc == 1:# computador joga papel\n",
        "  if jogador == 0:\n",
        "    print('COMPUTADOR VENCEU')\n",
        "  elif jogador == 1:\n",
        "    print('EMPATE')\n",
        "  elif jogador == 2:\n",
        "    print('JOGADOR VENCEU')        \n",
        "   \n",
        "elif pc == 2: # computador joga tesoura\n",
        "  if jogador == 0:\n",
        "    print('JOGADOR VENCEU')\n",
        "  elif jogador == 1:\n",
        "    print('COMPUTADOR VENCEU')\n",
        "  elif jogador == 2:\n",
        "    print('EMPATE') \n",
        "\n",
        "else:\n",
        "  print('Opção inválida!')"
      ],
      "metadata": {
        "id": "KfWfI8ACDooZ"
      },
      "execution_count": null,
      "outputs": []
    },
    {
      "cell_type": "code",
      "source": [
        "# Contagem regressiva (Feliz Ano Novo)\n",
        "from time import sleep\n",
        "for c in range(10,-1,-1):\n",
        "  print(c)\n",
        "  sleep(1.0)\n",
        "print('Pow Pow pow == Feliz Ano novo!! Pow Pow Pow == ')  "
      ],
      "metadata": {
        "id": "fsAlteFjdUJW"
      },
      "execution_count": null,
      "outputs": []
    },
    {
      "cell_type": "code",
      "source": [
        "#EXERCÍCIO 47\n",
        "\n",
        "s = 0\n",
        "for c in range(0, 4):\n",
        "  n = int(input('Digite um número: '))\n",
        "  s += n\n",
        "print('O somatório de todos os números foi {}.'.format(s))"
      ],
      "metadata": {
        "id": "C-nzNN3OuwL1"
      },
      "execution_count": null,
      "outputs": []
    },
    {
      "cell_type": "code",
      "source": [
        "# Contagem de pares\n",
        "\n",
        "for c in range(2, 51, 2):\n",
        "  print (c, end = \" \")\n",
        "  "
      ],
      "metadata": {
        "id": "MrVpgZ8HeVHl"
      },
      "execution_count": null,
      "outputs": []
    },
    {
      "cell_type": "code",
      "source": [
        "# Soma ímpares múltiplos de três\n",
        "cont = 0\n",
        "soma = 0\n",
        "for i in range(1, 501,2):\n",
        "  if i % 3 == 0:\n",
        "    cont = cont + 1\n",
        "    soma = soma + i\n",
        "print(soma, cont, end = ' ')\n"
      ],
      "metadata": {
        "id": "bKXtIxP2uG64"
      },
      "execution_count": null,
      "outputs": []
    },
    {
      "cell_type": "code",
      "source": [
        "# Tabuada v.2.0\n",
        "num = int(input('Digite um número pra ver sua tabuada: '))\n",
        "for t in range(1,11):\n",
        "  print('{} x  {:2} = {}'.format(num, t, num*t))\n"
      ],
      "metadata": {
        "id": "BESRtcnx61rg"
      },
      "execution_count": null,
      "outputs": []
    },
    {
      "cell_type": "code",
      "source": [
        "# Soma dos pares\n",
        "soma = 0\n",
        "for n in range(0, 6, 1):\n",
        "  n = int(input('Digite um número inteiro: '))\n",
        "  if n % 2 == 0:\n",
        "    soma += n\n",
        "print('A soma dos números pares é {}'.format(soma))\n"
      ],
      "metadata": {
        "id": "PA6cZjT-jwG2"
      },
      "execution_count": null,
      "outputs": []
    },
    {
      "cell_type": "code",
      "source": [
        "# Progressão Aritmética\n",
        "print('='*31)\n",
        "print(' OS 10 TERMOS DE UMA PA FINITA')\n",
        "print('='*31)\n",
        "\n",
        "cont = 0\n",
        "a = int(input('Primeiro termo: '))\n",
        "r = int(input('Razão: '))\n",
        "\n",
        "print('Os dez termos da uma P.A. são = {', end = ' ')\n",
        "for p in range(a, a+10*r, r):\n",
        "  print(p, end = ' , ')\n",
        "print('}')\n",
        "\n",
        "\n"
      ],
      "metadata": {
        "id": "bYtF_Iztr_4T"
      },
      "execution_count": null,
      "outputs": []
    },
    {
      "cell_type": "code",
      "source": [
        "# Números primos\n",
        "n = int(input('Digite um número inteiro: '))\n",
        "cont = 0\n",
        "\n",
        "print('Divisores de {}: '.format(n, end = ' '))\n",
        "for d in range(1, n+1, 1):\n",
        "  if n % d == 0:\n",
        "    cont += 1\n",
        "    print(d, end =' ')\n",
        "print(' ')\n",
        "if cont <= 2:\n",
        "  print(\"O número {} tem {} divisores. Logo é um número PRIMO!!!\".format(n, cont, end = ' '))\n",
        "else:\n",
        "  print('O número {} tem {} divisores. Logo é um número COMPOSTO.'.format(n, cont, end = ' '))   \n"
      ],
      "metadata": {
        "id": "mb7AfxrN1oK1"
      },
      "execution_count": null,
      "outputs": []
    },
    {
      "cell_type": "code",
      "source": [
        "# Grupo da maioridade\n",
        "\n",
        "from datetime import date\n",
        "cont = 0\n",
        "cont2 = 0\n",
        "hoje = date.today().year\n",
        "\n",
        "for c in range(1, 8):\n",
        "  a = int(input('Digite o ano de nascimento da {}ª pessoa: '.format(c)))\n",
        "  idade = hoje - a\n",
        "  if idade >= 21:\n",
        "   cont += 1\n",
        "  else:\n",
        "   cont2 += 1 \n",
        "print('Há {} pessoas maiores e {} pessoas menores de idade!'.format(cont, cont2))\n",
        "\n"
      ],
      "metadata": {
        "id": "C8gZsHtqDp0r"
      },
      "execution_count": null,
      "outputs": []
    },
    {
      "cell_type": "code",
      "source": [
        "# Maior ou menor da sequência\n",
        "\n",
        "maior = 0\n",
        "menor = 0\n",
        "\n",
        "for p in range (1, 6):\n",
        "  peso = float(input('Digite o peso da {}ª pessoa: '.format(p)))\n",
        "  if p == 1:\n",
        "    maior = peso\n",
        "    menor = peso\n",
        "  else:\n",
        "    if peso > maior:\n",
        "      maior = peso\n",
        "    if peso < menor:\n",
        "      menor = peso\n",
        "print('O maior peso é {}kg'.format(maior))\n",
        "print('O menor peso é {}kg'.format(menor))\n",
        "       "
      ],
      "metadata": {
        "id": "ugfmHByGNrq5"
      },
      "execution_count": null,
      "outputs": []
    }
  ]
}