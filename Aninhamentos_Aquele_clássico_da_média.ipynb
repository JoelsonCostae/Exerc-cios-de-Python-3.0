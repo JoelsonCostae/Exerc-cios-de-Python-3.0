{
  "nbformat": 4,
  "nbformat_minor": 0,
  "metadata": {
    "colab": {
      "provenance": []
    },
    "kernelspec": {
      "name": "python3",
      "display_name": "Python 3"
    },
    "language_info": {
      "name": "python"
    }
  },
  "cells": [
    {
      "cell_type": "code",
      "source": [
        "# Aquele clássico da média\n",
        "\n",
        "n1 = float(input('Digite a primeira nota: '))\n",
        "n2 = float(input('Digite a segunda nota: '))\n",
        "m = (n1 + n2) / 2\n",
        "if m < 5.0:\n",
        "  print(\"Com {} e {} sua média é {}, você está REPROVADO!\".format(n1, n2, m))\n",
        "elif 5.0 <= m <= 6.9:\n",
        "  print('Com {} e {} sua média é {}, você está de RECUPERAÇÃO!!'.format(n1, n2 , m))\n",
        "else:\n",
        "  print('Com {} e {} sua média é {}, você está APROVADO!!!'.format(n1, n2, m))"
      ],
      "metadata": {
        "id": "M7t4A-KL9a57"
      },
      "execution_count": null,
      "outputs": []
    }
  ]
}