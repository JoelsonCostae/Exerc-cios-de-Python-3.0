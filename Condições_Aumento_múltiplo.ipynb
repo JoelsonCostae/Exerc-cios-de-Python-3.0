{
  "nbformat": 4,
  "nbformat_minor": 0,
  "metadata": {
    "colab": {
      "provenance": []
    },
    "kernelspec": {
      "name": "python3",
      "display_name": "Python 3"
    },
    "language_info": {
      "name": "python"
    }
  },
  "cells": [
    {
      "cell_type": "code",
      "source": [
        "# Aumento múltiplo\n",
        "''' Escreva um programa que pergunte o salário de um funcionário e calcule o valor de seu aumento. \n",
        "Para salários acima de R$ 1.250,00 , calcule um aumento de 10%.\n",
        "Para os inferiores ou iguais, o aumento é de 15%. '''\n",
        "\n",
        "salario = float(input('Qual o valor do salário? '))\n",
        "\n",
        "if salario <= 1250:\n",
        "  novo = salario * 1.15\n",
        "else:\n",
        "  novo = salario * 1.10\n",
        "print('Quem ganhava R${:.2f} passa a ganhar R${:.2f} agora.'.format(salario,novo))\n"
      ],
      "metadata": {
        "id": "M7t4A-KL9a57"
      },
      "execution_count": null,
      "outputs": []
    }
  ]
}