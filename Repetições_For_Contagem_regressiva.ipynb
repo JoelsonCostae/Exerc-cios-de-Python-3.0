{
  "nbformat": 4,
  "nbformat_minor": 0,
  "metadata": {
    "colab": {
      "provenance": []
    },
    "kernelspec": {
      "name": "python3",
      "display_name": "Python 3"
    },
    "language_info": {
      "name": "python"
    }
  },
  "cells": [
    {
      "cell_type": "code",
      "execution_count": null,
      "metadata": {
        "id": "y4Tprxu_ioRD"
      },
      "outputs": [],
      "source": [
        "'''Faça um programa que mostre na tela uma contagem regressiva para o estouro de fogos de artifício,\n",
        " indo de 10 até 0, com uma pausa de 1 segundo entre eles.'''\n",
        "\n",
        "from time import sleep\n",
        "for c in range (10, -1, -1):\n",
        "  print(c)\n",
        "  sleep(1)\n",
        "print('Pow, pow, pow')"
      ]
    }
  ]
}