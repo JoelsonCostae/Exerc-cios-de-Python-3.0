{
  "nbformat": 4,
  "nbformat_minor": 0,
  "metadata": {
    "colab": {
      "name": "Estruturas de Decisão.ipynb",
      "provenance": [],
      "authorship_tag": "ABX9TyNDnFJc5j48pvq0tQ+iioK5",
      "include_colab_link": true
    },
    "kernelspec": {
      "name": "python3",
      "display_name": "Python 3"
    },
    "language_info": {
      "name": "python"
    }
  },
  "cells": [
    {
      "cell_type": "markdown",
      "metadata": {
        "id": "view-in-github",
        "colab_type": "text"
      },
      "source": [
        "<a href=\"https://colab.research.google.com/github/JoelsonCostae/Python-3.0-Basico/blob/main/Estruturas_de_Decis%C3%A3o.ipynb\" target=\"_parent\"><img src=\"https://colab.research.google.com/assets/colab-badge.svg\" alt=\"Open In Colab\"/></a>"
      ]
    },
    {
      "cell_type": "markdown",
      "source": [
        "Estruturas de Decisão"
      ],
      "metadata": {
        "id": "ajqBgfP1ALOn"
      }
    },
    {
      "cell_type": "code",
      "execution_count": null,
      "metadata": {
        "id": "i7sogoV-ADTL"
      },
      "outputs": [],
      "source": [
        "#Faça um Programa que peça dois números e imprima o maior deles.\n",
        "\n",
        "a = int(input(\"Digite um número: \"))\n",
        "b = int(input(\"Digite outro: \"))\n",
        "\n",
        "if a > b:\n",
        "  print(\"O número\",a,\"é o maior\")\n",
        "elif b > a:\n",
        "  print(\"O número\",b,\"é o maior\")\n",
        "else:\n",
        "  print(\"Errou. Vc é burro!\")    "
      ]
    },
    {
      "cell_type": "code",
      "source": [
        "#Faça um Programa que peça um valor e mostre na tela se o valor é positivo ou negativo.\n",
        "\n",
        "a = int(input(\"Digite um número:\"))\n",
        "\n",
        "if a >=0:\n",
        "  print(\"O número\",a,\"é positivo.\")\n",
        "elif a <0:\n",
        "  print(\"O número\",a,\"é negativo\")\n",
        "else :\n",
        "  print(\"Erro. Digite um número inteiro!\")    "
      ],
      "metadata": {
        "id": "mBSnfA_ZDK8G"
      },
      "execution_count": null,
      "outputs": []
    },
    {
      "cell_type": "code",
      "source": [
        "#Faça um Programa que verifique se uma letra digitada é \"F\" ou \"M\". Conforme a letra escrever: F - Feminino, M - Masculino, Sexo Inválido.\n",
        "\n",
        "s = str(input(\"Digite F- Feminino  M - Masculino: \"))\n",
        "\n",
        "\n",
        "if s == \"M\" or s ==\"m\":\n",
        "  print(\"Masculino\")\n",
        "elif s == \"F\" or s ==\"f\":\n",
        "  print(\"Feminino\")\n",
        "else:\n",
        "  print(\"Sexo Inválido!\")  "
      ],
      "metadata": {
        "id": "ncMOfDqkGJOZ"
      },
      "execution_count": null,
      "outputs": []
    },
    {
      "cell_type": "code",
      "source": [
        "'''Faça um programa para a leitura de duas notas parciais de um aluno. O programa deve calcular a média alcançada por aluno e apresentar:\n",
        "A mensagem \"Aprovado\", se a média alcançada for maior ou igual a sete;\n",
        "A mensagem \"Reprovado\", se a média for menor do que sete;\n",
        "A mensagem \"Aprovado com Distinção\", se a média for igual a dez.'''\n",
        "\n",
        "a = float(input(\"Digite a nota 1: \"))\n",
        "b = float(input(\"Digite a nota 2: \"))\n",
        "M = (a + b) / 2\n",
        "\n",
        "print(\"A média é:\",M)\n",
        "\n",
        "if M >= 7:\n",
        "  print(\"Aprovado\")\n",
        "elif M < 7:\n",
        "  print(\"Reprovado\")\n",
        "elif M == 10:\n",
        "  print(\"Aprovado com dinstinção\")\n",
        "else:\n",
        "  print('Erro. Recomece o programa!')"
      ],
      "metadata": {
        "id": "BETzi-H_PkGD"
      },
      "execution_count": null,
      "outputs": []
    },
    {
      "cell_type": "code",
      "source": [
        "#Faça um Programa que leia três números e mostre o maior e o menor deles.\n",
        "\n",
        "a = float(input(\"Digite o 1° número: \"))  \n",
        "b = float(input(\"Digite o 2° número: \"))\n",
        "c = float(input(\"Digite o 3° número: \"))\n",
        "\n",
        "if a > b > c:\n",
        "  print(\"O maior é {}, e o menor é {}\".format(a,b))\n",
        "elif  a > c > b:\n",
        "  print(\"O maior é {}, e o menor é {}\".format(a,c))\n",
        "elif b > a > c:\n",
        "  print(\"O maior é {}, e o menor é {}\".format(b,c))  \n",
        "elif b > c > a:\n",
        "  print(\"O maior é {}, e o menor é {}\".format(b,a))\n",
        "elif c > a > b:\n",
        "  print(\"O maior é {}, e o menor é {}\".format(c,b))\n",
        "elif c > b > a:\n",
        "  print(\"O maior é {}, e o menor é {}\".format(c,a))\n",
        "else:\n",
        "  print(\"Erro. O primeiro e o segundo número devem ser diferentes. Faz de novo!\")\n"
      ],
      "metadata": {
        "id": "4AvHSCEoTNZi"
      },
      "execution_count": null,
      "outputs": []
    }
  ]
}