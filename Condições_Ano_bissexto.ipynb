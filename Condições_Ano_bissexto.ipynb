{
  "nbformat": 4,
  "nbformat_minor": 0,
  "metadata": {
    "colab": {
      "provenance": []
    },
    "kernelspec": {
      "name": "python3",
      "display_name": "Python 3"
    },
    "language_info": {
      "name": "python"
    }
  },
  "cells": [
    {
      "cell_type": "code",
      "source": [
        "# Ano bissexto\n",
        "\n",
        "ano = int(input('Qual o ano você quer analizar? Coloque 0 para o ano atual! '))\n",
        "bi = ano % 4 and ano % 100 or ano % 400\n",
        "if bi == 0:\n",
        "  print('O ano {} é bissexto!'.format(ano))\n",
        "else:\n",
        "  print('O ano {} não é bissexto!'.format(ano))"
      ],
      "metadata": {
        "id": "M7t4A-KL9a57"
      },
      "execution_count": null,
      "outputs": []
    }
  ]
}