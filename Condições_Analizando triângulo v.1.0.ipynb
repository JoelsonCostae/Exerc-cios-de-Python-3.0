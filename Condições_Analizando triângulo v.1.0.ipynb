{
  "nbformat": 4,
  "nbformat_minor": 0,
  "metadata": {
    "colab": {
      "provenance": []
    },
    "kernelspec": {
      "name": "python3",
      "display_name": "Python 3"
    },
    "language_info": {
      "name": "python"
    }
  },
  "cells": [
    {
      "cell_type": "code",
      "source": [
        "# Analizando triângulo v.1.0\n",
        "\n",
        "print('-='*20)\n",
        "print('|| A teoria do triângulo.')\n",
        "print('-='*20)\n",
        "print(' '*20)\n",
        "\n",
        "a = float(input('Primeiro lado: '))\n",
        "b = float(input('Segundo lado: ' ))\n",
        "c = float(input('Terceiro lado: '))\n",
        "\n",
        "'''if a + b > c and a + c > b and b + c > a:\n",
        "  print('É possível formar um triângulo...')'''\n",
        "if a == b == c:\n",
        "  print('É um triângulo Equilátero!.')\n",
        "elif a == b or a == c or b == c:\n",
        "  print( 'É um triângulo Isóceles!')\n",
        "elif a + b > c and a + c > b and b + c > a and a != b != c:\n",
        "  print('É um triângulo Escaleno!')  \n",
        "else:\n",
        "  print('Não é possível formar um triângulo!')"
      ],
      "metadata": {
        "id": "M7t4A-KL9a57"
      },
      "execution_count": null,
      "outputs": []
    }
  ]
}
