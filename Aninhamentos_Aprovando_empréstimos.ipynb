{
  "nbformat": 4,
  "nbformat_minor": 0,
  "metadata": {
    "colab": {
      "provenance": []
    },
    "kernelspec": {
      "name": "python3",
      "display_name": "Python 3"
    },
    "language_info": {
      "name": "python"
    }
  },
  "cells": [
    {
      "cell_type": "code",
      "source": [
        "# Aprovando empréstimos\n",
        "\n",
        "casa = float(input('Qual o valor da casa? '))\n",
        "salario = float(input('Qual o salário do comprador? '))\n",
        "anos = int(input('Em quantos anos será pago? '))\n",
        "prestaçao = casa / (12 * anos)\n",
        "lim_sal = salario * 30/100\n",
        "if prestaçao >= lim_sal:\n",
        "  print('São parcelas de {:.2f}. A prestação é maior que 30% do seu salário. EMPRÉSTIMO NEGADO!!!'.format(prestaçao,))\n",
        "else:\n",
        "  print('Parabéns. EMPRÉSTIMO APROVADO!!!')"
      ],
      "metadata": {
        "id": "M7t4A-KL9a57"
      },
      "execution_count": null,
      "outputs": []
    }
  ]
}
