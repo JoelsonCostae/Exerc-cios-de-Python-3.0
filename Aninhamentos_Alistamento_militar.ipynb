{
  "nbformat": 4,
  "nbformat_minor": 0,
  "metadata": {
    "colab": {
      "provenance": []
    },
    "kernelspec": {
      "name": "python3",
      "display_name": "Python 3"
    },
    "language_info": {
      "name": "python"
    }
  },
  "cells": [
    {
      "cell_type": "code",
      "source": [
        "# Alistamento militar\n",
        "\n",
        "from datetime import date\n",
        "nasc = int(input('Qual o ano de nascimento? '))\n",
        "idade = date.today().year - nasc\n",
        "if idade >= 18:\n",
        "  print('Você tem {} anos, aliste-se já!'.format(idade))\n",
        "else:\n",
        "  print('Você tem menos de 18 anos, vai estudar!'.format(idade))"
      ],
      "metadata": {
        "id": "M7t4A-KL9a57"
      },
      "execution_count": null,
      "outputs": []
    }
  ]
}