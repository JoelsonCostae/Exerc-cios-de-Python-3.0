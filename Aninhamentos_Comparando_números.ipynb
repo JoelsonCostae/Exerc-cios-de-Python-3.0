{
  "nbformat": 4,
  "nbformat_minor": 0,
  "metadata": {
    "colab": {
      "provenance": []
    },
    "kernelspec": {
      "name": "python3",
      "display_name": "Python 3"
    },
    "language_info": {
      "name": "python"
    }
  },
  "cells": [
    {
      "cell_type": "code",
      "source": [
        "# Comparando números\n",
        "\n",
        "n1 = int(input('Digite o primeiro número: '))\n",
        "n2 = int(input('Digite o segundo número: '))\n",
        "if n1 > n2:\n",
        "  print('O primeiro valor é maior!')\n",
        "elif n1 < n2:\n",
        "  print('O segundo valor é maior!')\n",
        "else:\n",
        "  print('Não existe valor maior, os dois são iguais!')"
      ],
      "metadata": {
        "id": "M7t4A-KL9a57"
      },
      "execution_count": null,
      "outputs": []
    }
  ]
}