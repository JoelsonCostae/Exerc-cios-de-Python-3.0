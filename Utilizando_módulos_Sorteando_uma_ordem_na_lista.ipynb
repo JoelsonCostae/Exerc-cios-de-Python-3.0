{
  "nbformat": 4,
  "nbformat_minor": 0,
  "metadata": {
    "colab": {
      "provenance": []
    },
    "kernelspec": {
      "name": "python3",
      "display_name": "Python 3"
    },
    "language_info": {
      "name": "python"
    }
  },
  "cells": [
    {
      "cell_type": "code",
      "source": [
        "# Sorteando uma ordem na lista\n",
        "\n",
        "import random \n",
        "a1 = str(input('Digite o primeiro aluno: '))\n",
        "a2 = str(input('Digite o segundo aluno: '))\n",
        "a3 = str(input('Digite o terceiro aluno: '))\n",
        "a4 = str(input('Digite o quarto aluno: '))\n",
        "lista = [a1,a2,a3,a4]\n",
        "random.shuffle(lista)\n",
        "print(lista)"
      ],
      "metadata": {
        "id": "M7t4A-KL9a57"
      },
      "execution_count": null,
      "outputs": []
    }
  ]
}