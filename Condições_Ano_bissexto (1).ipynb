{
  "nbformat": 4,
  "nbformat_minor": 0,
  "metadata": {
    "colab": {
      "provenance": []
    },
    "kernelspec": {
      "name": "python3",
      "display_name": "Python 3"
    },
    "language_info": {
      "name": "python"
    }
  },
  "cells": [
    {
      "cell_type": "code",
      "source": [
        "# Maior e menor valores\n",
        "\n",
        "n1 = float(input('Diga o primeiro número: '))\n",
        "n2 = float(input('Diga o segundo número: '))\n",
        "n3 = float(input('Diga o terceiro número: '))\n",
        "if n1 > n2 > n3 or n1 > n3 > n2:\n",
        "  print('O número {} é o maior e o número {} é o menor.'.format(n1,n3) or 'O número {} é o maior e o número {} é o menor'.format(n1,n2))\n",
        "elif n2 > n1 > n3 or n2 > n3 > n1:\n",
        "  print('O número {} é o maior e o número {} é o menor.'.format(n2,n3) or 'O número {} é o maior e o número {} é o menor.'.format(n2,n1))\n",
        "elif n3 > n2 > n1 or n3 > n1 > n2:\n",
        "  print('O número {} é o maior e o número {} é o menor.'.format(n3,n1) or 'O número {} é o maior e o número {} é o menor.'.format(n3,n2))\n",
        "else:\n",
        "  print('ERROR')"
      ],
      "metadata": {
        "id": "M7t4A-KL9a57"
      },
      "execution_count": null,
      "outputs": []
    }
  ]
}