{
  "nbformat": 4,
  "nbformat_minor": 0,
  "metadata": {
    "colab": {
      "provenance": []
    },
    "kernelspec": {
      "name": "python3",
      "display_name": "Python 3"
    },
    "language_info": {
      "name": "python"
    }
  },
  "cells": [
    {
      "cell_type": "code",
      "source": [
        "# Radar eletrônico\n",
        "\n",
        "v = float(input('Qual a velocidade do carro? '))\n",
        "m = (v - 80) * 7\n",
        "if v < 80:\n",
        "  print('Bom dia. Ótima viagem!!')\n",
        "else:  \n",
        "  print('Velocidade acima do limite ( 80 km/h). Você foi MULTADO em R$ {:.2f}.'.format(m))"
      ],
      "metadata": {
        "id": "M7t4A-KL9a57"
      },
      "execution_count": null,
      "outputs": []
    }
  ]
}