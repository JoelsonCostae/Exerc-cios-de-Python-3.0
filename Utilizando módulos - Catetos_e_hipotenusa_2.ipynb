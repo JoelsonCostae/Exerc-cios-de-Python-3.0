{
  "nbformat": 4,
  "nbformat_minor": 0,
  "metadata": {
    "colab": {
      "provenance": []
    },
    "kernelspec": {
      "name": "python3",
      "display_name": "Python 3"
    },
    "language_info": {
      "name": "python"
    }
  },
  "cells": [
    {
      "cell_type": "code",
      "source": [
        "# Pegue os catetos e calcule a hipotenusa (módulo sqrt)\n",
        "\n",
        "from math import sqrt\n",
        "b = float(input('Digite um cateto: '))\n",
        "c = float(input('Digite outro cateto: '))\n",
        "a = sqrt((b**2)+(c**2))\n",
        "print('A hipotenusa do triângulo é:',a)"
      ],
      "metadata": {
        "id": "M7t4A-KL9a57"
      },
      "execution_count": null,
      "outputs": []
    }
  ]
}
