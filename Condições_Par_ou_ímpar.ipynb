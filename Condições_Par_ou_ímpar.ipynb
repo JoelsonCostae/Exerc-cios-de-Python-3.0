{
  "nbformat": 4,
  "nbformat_minor": 0,
  "metadata": {
    "colab": {
      "provenance": []
    },
    "kernelspec": {
      "name": "python3",
      "display_name": "Python 3"
    },
    "language_info": {
      "name": "python"
    }
  },
  "cells": [
    {
      "cell_type": "code",
      "source": [
        "# Par ou ímpar\n",
        "\n",
        "n1 = float(input('Fala um número! '))\n",
        "if n1%2 == 0:\n",
        "  print('Este número é par!')\n",
        "else:\n",
        "  print('Este número é ímpar!')"
      ],
      "metadata": {
        "id": "M7t4A-KL9a57"
      },
      "execution_count": null,
      "outputs": []
    }
  ]
}