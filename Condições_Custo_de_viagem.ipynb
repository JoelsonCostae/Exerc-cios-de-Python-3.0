{
  "nbformat": 4,
  "nbformat_minor": 0,
  "metadata": {
    "colab": {
      "provenance": []
    },
    "kernelspec": {
      "name": "python3",
      "display_name": "Python 3"
    },
    "language_info": {
      "name": "python"
    }
  },
  "cells": [
    {
      "cell_type": "code",
      "source": [
        "# Custo de viagem\n",
        "\n",
        "d = float(input('Qual a distância em km? '))\n",
        "v1 = d * 0.5\n",
        "v2 = d * 0.45\n",
        "\n",
        "if d <= 200:\n",
        "  print('Sua viagem é de {} Kilometros e custará R$ {:.2f}!'.format(d,v1))\n",
        "else:\n",
        "  print('Sua viagem é de {} kilometros e custará R$ {:.2f}!'.format(d,v2))"
      ],
      "metadata": {
        "id": "M7t4A-KL9a57"
      },
      "execution_count": null,
      "outputs": []
    }
  ]
}