{
  "nbformat": 4,
  "nbformat_minor": 0,
  "metadata": {
    "colab": {
      "provenance": []
    },
    "kernelspec": {
      "name": "python3",
      "display_name": "Python 3"
    },
    "language_info": {
      "name": "python"
    }
  },
  "cells": [
    {
      "cell_type": "code",
      "source": [
        "# Game: Jogo da advinhação v.1.0\n",
        "\n",
        "from random import randint\n",
        "from time import sleep\n",
        "computador = randint(0,5) \n",
        "print(\"Advinha qual o número certo do computador de 0 a 5! \")\n",
        "jogador = int(input('O número é: '))\n",
        "print('Pensando . . . ')\n",
        "sleep(2)\n",
        "print('Computador:',computador)\n",
        "if jogador == computador:\n",
        "  print(\"Parabéns!\")\n",
        "else:\n",
        "  print('Errou! Ai que burro dá zero pra ele! kkkkkk')"
      ],
      "metadata": {
        "id": "M7t4A-KL9a57"
      },
      "execution_count": null,
      "outputs": []
    }
  ]
}
